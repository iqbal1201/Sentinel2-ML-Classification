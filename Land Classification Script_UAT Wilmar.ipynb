{
 "cells": [
  {
   "cell_type": "code",
   "execution_count": 1,
   "id": "e69b2a4c",
   "metadata": {},
   "outputs": [],
   "source": [
    "#Importing all modules required\n",
    "import numpy as np\n",
    "import pandas as pd\n",
    "import matplotlib.pyplot as plt\n",
    "from sklearn.linear_model import LogisticRegression\n",
    "from sklearn.model_selection import GridSearchCV\n",
    "from sklearn.model_selection import train_test_split\n",
    "from sklearn.metrics import plot_confusion_matrix, classification_report, roc_auc_score, roc_curve\n",
    "from sklearn.model_selection import cross_val_score\n",
    "from sklearn.preprocessing import StandardScaler, MinMaxScaler, LabelEncoder\n",
    "from sklearn.utils import resample\n",
    "import time, os, shutil\n",
    "import pickle\n",
    "from sklearn.pipeline import Pipeline\n",
    "from sklearn.compose import ColumnTransformer"
   ]
  },
  {
   "cell_type": "code",
   "execution_count": 2,
   "id": "f714c4ab",
   "metadata": {},
   "outputs": [],
   "source": [
    "# # Do this to import dataframe containing training point\n",
    "\n",
    "banten = pd.read_csv('Retraining_banten_index.csv', index_col = 0) \n",
    "sumbar = pd.read_csv('Retraining_sumbar_index.csv', index_col = 0)\n",
    "kalteng = pd.read_csv('Retraining_kalteng_index.csv', index_col = 0)\n",
    "medan = pd.read_csv('Retraining_medan_index.csv', index_col = 0)\n",
    "\n",
    "# Appending all datasets into one dataframe. Do this if you get new training data and in separated files\n",
    "new_training = banten.append(sumbar).append(kalteng).append(medan)"
   ]
  },
  {
   "cell_type": "code",
   "execution_count": 3,
   "id": "8a477b08",
   "metadata": {},
   "outputs": [
    {
     "data": {
      "text/html": [
       "<div>\n",
       "<style scoped>\n",
       "    .dataframe tbody tr th:only-of-type {\n",
       "        vertical-align: middle;\n",
       "    }\n",
       "\n",
       "    .dataframe tbody tr th {\n",
       "        vertical-align: top;\n",
       "    }\n",
       "\n",
       "    .dataframe thead th {\n",
       "        text-align: right;\n",
       "    }\n",
       "</style>\n",
       "<table border=\"1\" class=\"dataframe\">\n",
       "  <thead>\n",
       "    <tr style=\"text-align: right;\">\n",
       "      <th></th>\n",
       "      <th>Label</th>\n",
       "      <th>Id_class</th>\n",
       "      <th>MBI</th>\n",
       "      <th>MNDWI</th>\n",
       "      <th>NDVI</th>\n",
       "      <th>SAVI</th>\n",
       "      <th>Id_Class</th>\n",
       "    </tr>\n",
       "    <tr>\n",
       "      <th>Id</th>\n",
       "      <th></th>\n",
       "      <th></th>\n",
       "      <th></th>\n",
       "      <th></th>\n",
       "      <th></th>\n",
       "      <th></th>\n",
       "      <th></th>\n",
       "    </tr>\n",
       "  </thead>\n",
       "  <tbody>\n",
       "    <tr>\n",
       "      <th>0</th>\n",
       "      <td>Vegetation</td>\n",
       "      <td>3.0</td>\n",
       "      <td>0.059762</td>\n",
       "      <td>-0.319626</td>\n",
       "      <td>0.603303</td>\n",
       "      <td>0.948593</td>\n",
       "      <td>NaN</td>\n",
       "    </tr>\n",
       "    <tr>\n",
       "      <th>0</th>\n",
       "      <td>Vegetation</td>\n",
       "      <td>3.0</td>\n",
       "      <td>0.102904</td>\n",
       "      <td>-0.358828</td>\n",
       "      <td>0.633381</td>\n",
       "      <td>0.987429</td>\n",
       "      <td>NaN</td>\n",
       "    </tr>\n",
       "    <tr>\n",
       "      <th>0</th>\n",
       "      <td>Vegetation</td>\n",
       "      <td>3.0</td>\n",
       "      <td>0.065443</td>\n",
       "      <td>-0.280920</td>\n",
       "      <td>0.595352</td>\n",
       "      <td>0.925256</td>\n",
       "      <td>NaN</td>\n",
       "    </tr>\n",
       "    <tr>\n",
       "      <th>0</th>\n",
       "      <td>Vegetation</td>\n",
       "      <td>3.0</td>\n",
       "      <td>0.029689</td>\n",
       "      <td>-0.268155</td>\n",
       "      <td>0.614327</td>\n",
       "      <td>0.947649</td>\n",
       "      <td>NaN</td>\n",
       "    </tr>\n",
       "    <tr>\n",
       "      <th>0</th>\n",
       "      <td>Vegetation</td>\n",
       "      <td>3.0</td>\n",
       "      <td>0.058314</td>\n",
       "      <td>-0.317022</td>\n",
       "      <td>0.575451</td>\n",
       "      <td>0.921374</td>\n",
       "      <td>NaN</td>\n",
       "    </tr>\n",
       "  </tbody>\n",
       "</table>\n",
       "</div>"
      ],
      "text/plain": [
       "         Label  Id_class       MBI     MNDWI      NDVI      SAVI  Id_Class\n",
       "Id                                                                        \n",
       "0   Vegetation       3.0  0.059762 -0.319626  0.603303  0.948593       NaN\n",
       "0   Vegetation       3.0  0.102904 -0.358828  0.633381  0.987429       NaN\n",
       "0   Vegetation       3.0  0.065443 -0.280920  0.595352  0.925256       NaN\n",
       "0   Vegetation       3.0  0.029689 -0.268155  0.614327  0.947649       NaN\n",
       "0   Vegetation       3.0  0.058314 -0.317022  0.575451  0.921374       NaN"
      ]
     },
     "execution_count": 3,
     "metadata": {},
     "output_type": "execute_result"
    }
   ],
   "source": [
    "new_training.head()"
   ]
  },
  {
   "cell_type": "code",
   "execution_count": 4,
   "id": "09b7fe72",
   "metadata": {},
   "outputs": [
    {
     "data": {
      "text/plain": [
       "(26829, 7)"
      ]
     },
     "execution_count": 4,
     "metadata": {},
     "output_type": "execute_result"
    }
   ],
   "source": [
    "# Checking number of row and column\n",
    "new_training.shape"
   ]
  },
  {
   "cell_type": "code",
   "execution_count": 5,
   "id": "12eb08f7",
   "metadata": {},
   "outputs": [],
   "source": [
    "# Selecting required column\n",
    "new_training = new_training[[\"Label\", \"MBI\", \"MNDWI\", \"NDVI\", \"SAVI\"]]"
   ]
  },
  {
   "cell_type": "code",
   "execution_count": 8,
   "id": "96b75bb4",
   "metadata": {},
   "outputs": [
    {
     "data": {
      "text/html": [
       "<div>\n",
       "<style scoped>\n",
       "    .dataframe tbody tr th:only-of-type {\n",
       "        vertical-align: middle;\n",
       "    }\n",
       "\n",
       "    .dataframe tbody tr th {\n",
       "        vertical-align: top;\n",
       "    }\n",
       "\n",
       "    .dataframe thead th {\n",
       "        text-align: right;\n",
       "    }\n",
       "</style>\n",
       "<table border=\"1\" class=\"dataframe\">\n",
       "  <thead>\n",
       "    <tr style=\"text-align: right;\">\n",
       "      <th></th>\n",
       "      <th>Label</th>\n",
       "      <th>MBI</th>\n",
       "      <th>MNDWI</th>\n",
       "      <th>NDVI</th>\n",
       "      <th>SAVI</th>\n",
       "    </tr>\n",
       "    <tr>\n",
       "      <th>Id</th>\n",
       "      <th></th>\n",
       "      <th></th>\n",
       "      <th></th>\n",
       "      <th></th>\n",
       "      <th></th>\n",
       "    </tr>\n",
       "  </thead>\n",
       "  <tbody>\n",
       "    <tr>\n",
       "      <th>0</th>\n",
       "      <td>Vegetation</td>\n",
       "      <td>0.059762</td>\n",
       "      <td>-0.319626</td>\n",
       "      <td>0.603303</td>\n",
       "      <td>0.948593</td>\n",
       "    </tr>\n",
       "    <tr>\n",
       "      <th>0</th>\n",
       "      <td>Vegetation</td>\n",
       "      <td>0.102904</td>\n",
       "      <td>-0.358828</td>\n",
       "      <td>0.633381</td>\n",
       "      <td>0.987429</td>\n",
       "    </tr>\n",
       "    <tr>\n",
       "      <th>0</th>\n",
       "      <td>Vegetation</td>\n",
       "      <td>0.065443</td>\n",
       "      <td>-0.280920</td>\n",
       "      <td>0.595352</td>\n",
       "      <td>0.925256</td>\n",
       "    </tr>\n",
       "    <tr>\n",
       "      <th>0</th>\n",
       "      <td>Vegetation</td>\n",
       "      <td>0.029689</td>\n",
       "      <td>-0.268155</td>\n",
       "      <td>0.614327</td>\n",
       "      <td>0.947649</td>\n",
       "    </tr>\n",
       "    <tr>\n",
       "      <th>0</th>\n",
       "      <td>Vegetation</td>\n",
       "      <td>0.058314</td>\n",
       "      <td>-0.317022</td>\n",
       "      <td>0.575451</td>\n",
       "      <td>0.921374</td>\n",
       "    </tr>\n",
       "  </tbody>\n",
       "</table>\n",
       "</div>"
      ],
      "text/plain": [
       "         Label       MBI     MNDWI      NDVI      SAVI\n",
       "Id                                                    \n",
       "0   Vegetation  0.059762 -0.319626  0.603303  0.948593\n",
       "0   Vegetation  0.102904 -0.358828  0.633381  0.987429\n",
       "0   Vegetation  0.065443 -0.280920  0.595352  0.925256\n",
       "0   Vegetation  0.029689 -0.268155  0.614327  0.947649\n",
       "0   Vegetation  0.058314 -0.317022  0.575451  0.921374"
      ]
     },
     "execution_count": 8,
     "metadata": {},
     "output_type": "execute_result"
    }
   ],
   "source": [
    "new_training.head()"
   ]
  },
  {
   "cell_type": "code",
   "execution_count": 9,
   "id": "3b7b1204",
   "metadata": {},
   "outputs": [
    {
     "name": "stdout",
     "output_type": "stream",
     "text": [
      "<class 'pandas.core.frame.DataFrame'>\n",
      "Int64Index: 26829 entries, 0 to 0\n",
      "Data columns (total 5 columns):\n",
      " #   Column  Non-Null Count  Dtype  \n",
      "---  ------  --------------  -----  \n",
      " 0   Label   26829 non-null  object \n",
      " 1   MBI     26829 non-null  float64\n",
      " 2   MNDWI   26829 non-null  float64\n",
      " 3   NDVI    26829 non-null  float64\n",
      " 4   SAVI    26829 non-null  float64\n",
      "dtypes: float64(4), object(1)\n",
      "memory usage: 1.2+ MB\n"
     ]
    }
   ],
   "source": [
    "new_training.info()"
   ]
  },
  {
   "cell_type": "code",
   "execution_count": 10,
   "id": "324384dc",
   "metadata": {},
   "outputs": [
    {
     "data": {
      "text/plain": [
       "Vegetation    5985\n",
       "Bareland      5891\n",
       "WaterBody     5543\n",
       "Cloud         5013\n",
       "BuiltUp       4397\n",
       "Name: Label, dtype: int64"
      ]
     },
     "execution_count": 10,
     "metadata": {},
     "output_type": "execute_result"
    }
   ],
   "source": [
    "new_training.Label.value_counts()"
   ]
  },
  {
   "cell_type": "markdown",
   "id": "d66b6f2d",
   "metadata": {},
   "source": [
    "### Encoding"
   ]
  },
  {
   "cell_type": "code",
   "execution_count": 11,
   "id": "6bea4927",
   "metadata": {},
   "outputs": [
    {
     "name": "stderr",
     "output_type": "stream",
     "text": [
      "C:\\Program Files\\ArcGIS\\Server\\framework\\runtime\\ArcGIS\\bin\\Python\\envs\\arcgispro-py3\\lib\\site-packages\\ipykernel_launcher.py:4: SettingWithCopyWarning: \n",
      "A value is trying to be set on a copy of a slice from a DataFrame\n",
      "\n",
      "See the caveats in the documentation: https://pandas.pydata.org/pandas-docs/stable/user_guide/indexing.html#returning-a-view-versus-a-copy\n",
      "  after removing the cwd from sys.path.\n",
      "C:\\Program Files\\ArcGIS\\Server\\framework\\runtime\\ArcGIS\\bin\\Python\\envs\\arcgispro-py3\\lib\\site-packages\\ipykernel_launcher.py:5: SettingWithCopyWarning: \n",
      "A value is trying to be set on a copy of a slice from a DataFrame\n",
      "\n",
      "See the caveats in the documentation: https://pandas.pydata.org/pandas-docs/stable/user_guide/indexing.html#returning-a-view-versus-a-copy\n",
      "  \"\"\"\n",
      "C:\\Program Files\\ArcGIS\\Server\\framework\\runtime\\ArcGIS\\bin\\Python\\envs\\arcgispro-py3\\lib\\site-packages\\ipykernel_launcher.py:6: SettingWithCopyWarning: \n",
      "A value is trying to be set on a copy of a slice from a DataFrame\n",
      "\n",
      "See the caveats in the documentation: https://pandas.pydata.org/pandas-docs/stable/user_guide/indexing.html#returning-a-view-versus-a-copy\n",
      "  \n",
      "C:\\Program Files\\ArcGIS\\Server\\framework\\runtime\\ArcGIS\\bin\\Python\\envs\\arcgispro-py3\\lib\\site-packages\\ipykernel_launcher.py:7: SettingWithCopyWarning: \n",
      "A value is trying to be set on a copy of a slice from a DataFrame\n",
      "\n",
      "See the caveats in the documentation: https://pandas.pydata.org/pandas-docs/stable/user_guide/indexing.html#returning-a-view-versus-a-copy\n",
      "  import sys\n"
     ]
    }
   ],
   "source": [
    "#Encoding old character label into numerical value. Bareland and BuiltUp is merged into one. \n",
    "#This is optional but depending on the business needs\n",
    "new_training.Label[new_training.Label==\"Bareland\"] = 1\n",
    "new_training.Label[new_training.Label==\"BuiltUp\"] = 1\n",
    "new_training.Label[new_training.Label==\"Vegetation\"] = 2\n",
    "new_training.Label[new_training.Label==\"WaterBody\"] = 3\n",
    "new_training.Label[new_training.Label==\"Cloud\"] = 4"
   ]
  },
  {
   "cell_type": "code",
   "execution_count": 12,
   "id": "8dc622cc",
   "metadata": {},
   "outputs": [
    {
     "data": {
      "text/html": [
       "<div>\n",
       "<style scoped>\n",
       "    .dataframe tbody tr th:only-of-type {\n",
       "        vertical-align: middle;\n",
       "    }\n",
       "\n",
       "    .dataframe tbody tr th {\n",
       "        vertical-align: top;\n",
       "    }\n",
       "\n",
       "    .dataframe thead th {\n",
       "        text-align: right;\n",
       "    }\n",
       "</style>\n",
       "<table border=\"1\" class=\"dataframe\">\n",
       "  <thead>\n",
       "    <tr style=\"text-align: right;\">\n",
       "      <th></th>\n",
       "      <th>Label</th>\n",
       "      <th>MBI</th>\n",
       "      <th>MNDWI</th>\n",
       "      <th>NDVI</th>\n",
       "      <th>SAVI</th>\n",
       "    </tr>\n",
       "    <tr>\n",
       "      <th>Id</th>\n",
       "      <th></th>\n",
       "      <th></th>\n",
       "      <th></th>\n",
       "      <th></th>\n",
       "      <th></th>\n",
       "    </tr>\n",
       "  </thead>\n",
       "  <tbody>\n",
       "    <tr>\n",
       "      <th>0</th>\n",
       "      <td>2</td>\n",
       "      <td>0.059762</td>\n",
       "      <td>-0.319626</td>\n",
       "      <td>0.603303</td>\n",
       "      <td>0.948593</td>\n",
       "    </tr>\n",
       "    <tr>\n",
       "      <th>0</th>\n",
       "      <td>2</td>\n",
       "      <td>0.102904</td>\n",
       "      <td>-0.358828</td>\n",
       "      <td>0.633381</td>\n",
       "      <td>0.987429</td>\n",
       "    </tr>\n",
       "    <tr>\n",
       "      <th>0</th>\n",
       "      <td>2</td>\n",
       "      <td>0.065443</td>\n",
       "      <td>-0.280920</td>\n",
       "      <td>0.595352</td>\n",
       "      <td>0.925256</td>\n",
       "    </tr>\n",
       "    <tr>\n",
       "      <th>0</th>\n",
       "      <td>2</td>\n",
       "      <td>0.029689</td>\n",
       "      <td>-0.268155</td>\n",
       "      <td>0.614327</td>\n",
       "      <td>0.947649</td>\n",
       "    </tr>\n",
       "    <tr>\n",
       "      <th>0</th>\n",
       "      <td>2</td>\n",
       "      <td>0.058314</td>\n",
       "      <td>-0.317022</td>\n",
       "      <td>0.575451</td>\n",
       "      <td>0.921374</td>\n",
       "    </tr>\n",
       "  </tbody>\n",
       "</table>\n",
       "</div>"
      ],
      "text/plain": [
       "   Label       MBI     MNDWI      NDVI      SAVI\n",
       "Id                                              \n",
       "0      2  0.059762 -0.319626  0.603303  0.948593\n",
       "0      2  0.102904 -0.358828  0.633381  0.987429\n",
       "0      2  0.065443 -0.280920  0.595352  0.925256\n",
       "0      2  0.029689 -0.268155  0.614327  0.947649\n",
       "0      2  0.058314 -0.317022  0.575451  0.921374"
      ]
     },
     "execution_count": 12,
     "metadata": {},
     "output_type": "execute_result"
    }
   ],
   "source": [
    "# Checking dataframe after encoding\n",
    "new_training.head()"
   ]
  },
  {
   "cell_type": "code",
   "execution_count": 13,
   "id": "6d098b3c",
   "metadata": {},
   "outputs": [
    {
     "data": {
      "text/plain": [
       "1    10288\n",
       "2     5985\n",
       "3     5543\n",
       "4     5013\n",
       "Name: Label, dtype: int64"
      ]
     },
     "execution_count": 13,
     "metadata": {},
     "output_type": "execute_result"
    }
   ],
   "source": [
    "new_training.Label.value_counts()"
   ]
  },
  {
   "cell_type": "markdown",
   "id": "cf6f8af3",
   "metadata": {},
   "source": [
    "### Drop Null Value"
   ]
  },
  {
   "cell_type": "code",
   "execution_count": 14,
   "id": "ed6517cf",
   "metadata": {},
   "outputs": [
    {
     "data": {
      "text/plain": [
       "Label    0\n",
       "MBI      0\n",
       "MNDWI    0\n",
       "NDVI     0\n",
       "SAVI     0\n",
       "dtype: int64"
      ]
     },
     "execution_count": 14,
     "metadata": {},
     "output_type": "execute_result"
    }
   ],
   "source": [
    "# Checking null value\n",
    "new_training.isnull().sum()"
   ]
  },
  {
   "cell_type": "code",
   "execution_count": 15,
   "id": "fed09cbf",
   "metadata": {},
   "outputs": [],
   "source": [
    "new_training.dropna(inplace=True)"
   ]
  },
  {
   "cell_type": "code",
   "execution_count": 16,
   "id": "6f0ef0df",
   "metadata": {},
   "outputs": [
    {
     "data": {
      "text/plain": [
       "1    10288\n",
       "2     5985\n",
       "3     5543\n",
       "4     5013\n",
       "Name: Label, dtype: int64"
      ]
     },
     "execution_count": 16,
     "metadata": {},
     "output_type": "execute_result"
    }
   ],
   "source": [
    "new_training.Label.value_counts()"
   ]
  },
  {
   "cell_type": "code",
   "execution_count": 17,
   "id": "de304f5b",
   "metadata": {},
   "outputs": [
    {
     "name": "stdout",
     "output_type": "stream",
     "text": [
      "<class 'pandas.core.frame.DataFrame'>\n",
      "Int64Index: 26829 entries, 0 to 0\n",
      "Data columns (total 5 columns):\n",
      " #   Column  Non-Null Count  Dtype  \n",
      "---  ------  --------------  -----  \n",
      " 0   Label   26829 non-null  object \n",
      " 1   MBI     26829 non-null  float64\n",
      " 2   MNDWI   26829 non-null  float64\n",
      " 3   NDVI    26829 non-null  float64\n",
      " 4   SAVI    26829 non-null  float64\n",
      "dtypes: float64(4), object(1)\n",
      "memory usage: 1.2+ MB\n"
     ]
    }
   ],
   "source": [
    "new_training.info()"
   ]
  },
  {
   "cell_type": "code",
   "execution_count": 18,
   "id": "d28ae2dc",
   "metadata": {},
   "outputs": [
    {
     "data": {
      "text/html": [
       "<div>\n",
       "<style scoped>\n",
       "    .dataframe tbody tr th:only-of-type {\n",
       "        vertical-align: middle;\n",
       "    }\n",
       "\n",
       "    .dataframe tbody tr th {\n",
       "        vertical-align: top;\n",
       "    }\n",
       "\n",
       "    .dataframe thead th {\n",
       "        text-align: right;\n",
       "    }\n",
       "</style>\n",
       "<table border=\"1\" class=\"dataframe\">\n",
       "  <thead>\n",
       "    <tr style=\"text-align: right;\">\n",
       "      <th></th>\n",
       "      <th>Label</th>\n",
       "      <th>MBI</th>\n",
       "      <th>MNDWI</th>\n",
       "      <th>NDVI</th>\n",
       "      <th>SAVI</th>\n",
       "    </tr>\n",
       "    <tr>\n",
       "      <th>Id</th>\n",
       "      <th></th>\n",
       "      <th></th>\n",
       "      <th></th>\n",
       "      <th></th>\n",
       "      <th></th>\n",
       "    </tr>\n",
       "  </thead>\n",
       "  <tbody>\n",
       "    <tr>\n",
       "      <th>0</th>\n",
       "      <td>2</td>\n",
       "      <td>0.059762</td>\n",
       "      <td>-0.319626</td>\n",
       "      <td>0.603303</td>\n",
       "      <td>0.948593</td>\n",
       "    </tr>\n",
       "    <tr>\n",
       "      <th>0</th>\n",
       "      <td>2</td>\n",
       "      <td>0.102904</td>\n",
       "      <td>-0.358828</td>\n",
       "      <td>0.633381</td>\n",
       "      <td>0.987429</td>\n",
       "    </tr>\n",
       "    <tr>\n",
       "      <th>0</th>\n",
       "      <td>2</td>\n",
       "      <td>0.065443</td>\n",
       "      <td>-0.280920</td>\n",
       "      <td>0.595352</td>\n",
       "      <td>0.925256</td>\n",
       "    </tr>\n",
       "    <tr>\n",
       "      <th>0</th>\n",
       "      <td>2</td>\n",
       "      <td>0.029689</td>\n",
       "      <td>-0.268155</td>\n",
       "      <td>0.614327</td>\n",
       "      <td>0.947649</td>\n",
       "    </tr>\n",
       "    <tr>\n",
       "      <th>0</th>\n",
       "      <td>2</td>\n",
       "      <td>0.058314</td>\n",
       "      <td>-0.317022</td>\n",
       "      <td>0.575451</td>\n",
       "      <td>0.921374</td>\n",
       "    </tr>\n",
       "  </tbody>\n",
       "</table>\n",
       "</div>"
      ],
      "text/plain": [
       "   Label       MBI     MNDWI      NDVI      SAVI\n",
       "Id                                              \n",
       "0      2  0.059762 -0.319626  0.603303  0.948593\n",
       "0      2  0.102904 -0.358828  0.633381  0.987429\n",
       "0      2  0.065443 -0.280920  0.595352  0.925256\n",
       "0      2  0.029689 -0.268155  0.614327  0.947649\n",
       "0      2  0.058314 -0.317022  0.575451  0.921374"
      ]
     },
     "execution_count": 18,
     "metadata": {},
     "output_type": "execute_result"
    }
   ],
   "source": [
    "new_training.head()"
   ]
  },
  {
   "cell_type": "markdown",
   "id": "2bb5e6c7",
   "metadata": {},
   "source": [
    "### Dataset Splitting"
   ]
  },
  {
   "cell_type": "code",
   "execution_count": 19,
   "id": "646462d8",
   "metadata": {},
   "outputs": [],
   "source": [
    "# Splitting dataset into label (y) and features (x) \n",
    "X = new_training[['MBI', 'MNDWI', 'NDVI', 'SAVI']]\n",
    "y = new_training.Label.astype(int)"
   ]
  },
  {
   "cell_type": "code",
   "execution_count": 20,
   "id": "27ddf2f0",
   "metadata": {},
   "outputs": [
    {
     "name": "stdout",
     "output_type": "stream",
     "text": [
      "         MBI     MNDWI      NDVI      SAVI\n",
      "Id                                        \n",
      "0   0.059762 -0.319626  0.603303  0.948593\n",
      "0   0.102904 -0.358828  0.633381  0.987429\n",
      "0   0.065443 -0.280920  0.595352  0.925256\n",
      "0   0.029689 -0.268155  0.614327  0.947649\n",
      "0   0.058314 -0.317022  0.575451  0.921374\n",
      "..       ...       ...       ...       ...\n",
      "0   0.148677  0.209692 -0.048712 -0.073066\n",
      "0   0.143679  0.230219 -0.063337 -0.095003\n",
      "0   0.119895  0.238369 -0.043671 -0.065505\n",
      "0   0.083175  0.324314 -0.045745 -0.068615\n",
      "0   0.083686  0.306134 -0.036268 -0.054401\n",
      "\n",
      "[26829 rows x 4 columns] Id\n",
      "0    2\n",
      "0    2\n",
      "0    2\n",
      "0    2\n",
      "0    2\n",
      "    ..\n",
      "0    4\n",
      "0    4\n",
      "0    4\n",
      "0    4\n",
      "0    4\n",
      "Name: Label, Length: 26829, dtype: int32\n"
     ]
    }
   ],
   "source": [
    "print(X, y)"
   ]
  },
  {
   "cell_type": "code",
   "execution_count": 21,
   "id": "9f54db06",
   "metadata": {},
   "outputs": [
    {
     "data": {
      "text/plain": [
       "1    10288\n",
       "2     5985\n",
       "3     5543\n",
       "4     5013\n",
       "Name: Label, dtype: int64"
      ]
     },
     "execution_count": 21,
     "metadata": {},
     "output_type": "execute_result"
    }
   ],
   "source": [
    "y.value_counts()"
   ]
  },
  {
   "cell_type": "code",
   "execution_count": 22,
   "id": "d6a20c61",
   "metadata": {},
   "outputs": [
    {
     "data": {
      "text/plain": [
       "True"
      ]
     },
     "execution_count": 22,
     "metadata": {},
     "output_type": "execute_result"
    }
   ],
   "source": [
    "# Check if the length of data in X and y is same. If yes, there is nothing wrong with the datasets\n",
    "len(y) == len(X)"
   ]
  },
  {
   "cell_type": "code",
   "execution_count": 23,
   "id": "d2a43e7c",
   "metadata": {},
   "outputs": [
    {
     "data": {
      "text/plain": [
       "((20121, 4), (6708, 4), (20121,), (6708,))"
      ]
     },
     "execution_count": 23,
     "metadata": {},
     "output_type": "execute_result"
    }
   ],
   "source": [
    "# In this step we will make data test and data training. Our machine learning model will use data training to learn the data. \n",
    "# Data test will be used for validate the performance of the model\n",
    "# We will split all data into 25% data test and 75% data training\n",
    "\n",
    "X_train, X_test, y_train, y_test = train_test_split(X, y, test_size=0.25, random_state=42, stratify=y)\n",
    "X_train.shape, X_test.shape, y_train.shape, y_test.shape"
   ]
  },
  {
   "cell_type": "markdown",
   "id": "de4e1de1",
   "metadata": {},
   "source": [
    "###  Model Training"
   ]
  },
  {
   "cell_type": "code",
   "execution_count": 24,
   "id": "4a4308fa",
   "metadata": {},
   "outputs": [],
   "source": [
    "num_pipe = Pipeline([\n",
    "    ('scaler', MinMaxScaler())\n",
    "])"
   ]
  },
  {
   "cell_type": "code",
   "execution_count": 25,
   "id": "b367c602",
   "metadata": {},
   "outputs": [],
   "source": [
    "preprocessor = ColumnTransformer([\n",
    "    ('numeric', num_pipe, X_train.columns)\n",
    "])"
   ]
  },
  {
   "cell_type": "code",
   "execution_count": 26,
   "id": "ed70c2f5",
   "metadata": {},
   "outputs": [],
   "source": [
    "pipeline = Pipeline([\n",
    "    ('prep', preprocessor),\n",
    "    ('algo', LogisticRegression(multi_class='multinomial', solver='sag', n_jobs=-1, random_state=42))\n",
    "])"
   ]
  },
  {
   "cell_type": "code",
   "execution_count": 27,
   "id": "1159ac3f",
   "metadata": {},
   "outputs": [],
   "source": [
    "logreg_param = {\n",
    "    'algo__fit_intercept' : [True],\n",
    "    'algo__C' : np.array([1e2])\n",
    "}"
   ]
  },
  {
   "cell_type": "code",
   "execution_count": 28,
   "id": "87068568",
   "metadata": {},
   "outputs": [],
   "source": [
    "model_logreg = LogisticRegression(multi_class='multinomial', solver='sag', n_jobs=-1, random_state=42)"
   ]
  },
  {
   "cell_type": "code",
   "execution_count": 29,
   "id": "0f4a09b2",
   "metadata": {
    "scrolled": true
   },
   "outputs": [
    {
     "name": "stdout",
     "output_type": "stream",
     "text": [
      "<class 'pandas.core.frame.DataFrame'>\n",
      "Int64Index: 20121 entries, 0 to 0\n",
      "Data columns (total 4 columns):\n",
      " #   Column  Non-Null Count  Dtype  \n",
      "---  ------  --------------  -----  \n",
      " 0   MBI     20121 non-null  float64\n",
      " 1   MNDWI   20121 non-null  float64\n",
      " 2   NDVI    20121 non-null  float64\n",
      " 3   SAVI    20121 non-null  float64\n",
      "dtypes: float64(4)\n",
      "memory usage: 786.0 KB\n"
     ]
    }
   ],
   "source": [
    "X_train.info()"
   ]
  },
  {
   "cell_type": "code",
   "execution_count": 30,
   "id": "76d78728",
   "metadata": {},
   "outputs": [
    {
     "name": "stdout",
     "output_type": "stream",
     "text": [
      "0.9162566472839322 0.9193500298151461\n"
     ]
    }
   ],
   "source": [
    "# Implement logistic regression model\n",
    "\n",
    "model = GridSearchCV(pipeline, logreg_param, cv=5, n_jobs=-1, verbose=1)\n",
    "model_logreg.fit(X_train, y_train)\n",
    "\n",
    "#print(model_logreg.best_params_)\n",
    "print(model_logreg.score(X_train, y_train), model_logreg.score(X_test,y_test))"
   ]
  },
  {
   "cell_type": "markdown",
   "id": "4eb5fb19",
   "metadata": {},
   "source": [
    "### Evaluation\n",
    "#### Evaluate the result of data training into data test"
   ]
  },
  {
   "cell_type": "code",
   "execution_count": 31,
   "id": "49958743",
   "metadata": {},
   "outputs": [
    {
     "name": "stdout",
     "output_type": "stream",
     "text": [
      "              precision    recall  f1-score   support\n",
      "\n",
      "           1       0.94      0.92      0.93      2572\n",
      "           2       0.97      0.98      0.98      1497\n",
      "           3       0.95      0.91      0.93      1386\n",
      "           4       0.79      0.86      0.82      1253\n",
      "\n",
      "    accuracy                           0.92      6708\n",
      "   macro avg       0.91      0.92      0.91      6708\n",
      "weighted avg       0.92      0.92      0.92      6708\n",
      "\n"
     ]
    }
   ],
   "source": [
    "y_pred = model_logreg.predict(X_test)\n",
    "print(classification_report(y_test,y_pred))"
   ]
  },
  {
   "cell_type": "code",
   "execution_count": 32,
   "id": "c45374a3",
   "metadata": {},
   "outputs": [
    {
     "name": "stderr",
     "output_type": "stream",
     "text": [
      "C:\\Users\\mjanuadi\\AppData\\Roaming\\Python\\Python37\\site-packages\\sklearn\\utils\\deprecation.py:87: FutureWarning: Function plot_confusion_matrix is deprecated; Function `plot_confusion_matrix` is deprecated in 1.0 and will be removed in 1.2. Use one of the class methods: ConfusionMatrixDisplay.from_predictions or ConfusionMatrixDisplay.from_estimator.\n",
      "  warnings.warn(msg, category=FutureWarning)\n"
     ]
    },
    {
     "data": {
      "text/plain": [
       "Text(0.5, 1.0, 'Confusion Matrix (Normalized)')"
      ]
     },
     "execution_count": 32,
     "metadata": {},
     "output_type": "execute_result"
    },
    {
     "data": {
      "image/png": "[encoded data removed]",
      "text/plain": [
       "<Figure size 720x360 with 2 Axes>"
      ]
     },
     "metadata": {
      "needs_background": "light"
     },
     "output_type": "display_data"
    }
   ],
   "source": [
    "fig,ax = plt.subplots(figsize=(10,5))\n",
    "plot_confusion_matrix(model_logreg,X_test,y_test,cmap=plt.cm.Blues,normalize='true',ax=ax)\n",
    "ax.set_xlabel('Predicted')\n",
    "ax.set_ylabel('Actual')\n",
    "ax.set_title('Confusion Matrix (Normalized)')"
   ]
  },
  {
   "cell_type": "markdown",
   "id": "6175750f",
   "metadata": {},
   "source": [
    "### Save Model"
   ]
  },
  {
   "cell_type": "code",
   "execution_count": 35,
   "id": "64656f83",
   "metadata": {},
   "outputs": [],
   "source": [
    "#saving to new dataframe (optional)\n",
    "new_training.to_csv('new_trainingUAT2.csv', index=False)"
   ]
  },
  {
   "cell_type": "code",
   "execution_count": 36,
   "id": "5e6b8131",
   "metadata": {},
   "outputs": [],
   "source": [
    "# Saving model for inferencing\n",
    "with open('model_logreg_UAT2.sav', 'wb') as f:\n",
    "    pickle.dump(model_logreg, f)"
   ]
  },
  {
   "cell_type": "code",
   "execution_count": 70,
   "id": "815f25b2",
   "metadata": {},
   "outputs": [
    {
     "data": {
      "text/plain": [
       "LogisticRegression(multi_class='multinomial', n_jobs=-1, random_state=42,\n",
       "                   solver='sag')"
      ]
     },
     "execution_count": 70,
     "metadata": {},
     "output_type": "execute_result"
    }
   ],
   "source": [
    "model_logreg"
   ]
  }
 ],
 "metadata": {
  "kernelspec": {
   "display_name": "Python 3",
   "language": "python",
   "name": "python3"
  },
  "language_info": {
   "codemirror_mode": {
    "name": "ipython",
    "version": 3
   },
   "file_extension": ".py",
   "mimetype": "text/x-python",
   "name": "python",
   "nbconvert_exporter": "python",
   "pygments_lexer": "ipython3",
   "version": "3.7.11"
  }
 },
 "nbformat": 4,
 "nbformat_minor": 5
}
